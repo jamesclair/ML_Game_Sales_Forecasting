{
 "cells": [
  {
   "cell_type": "markdown",
   "metadata": {},
   "source": [
    "# Predicting Our Next Successful Game\n",
    "\n",
    "Author: James Clair\n",
    "\n",
    "Date: Sun Mar 20\n",
    "\n",
    "## Description\n",
    "\n",
    "With our recent successes, one of the biggest problems that WCVG is faced with is deciding what next to do with our time and development resources.  We want to pick a game that will maximize our profits, expand our brand awareness, and crush the top charts.  There is a lot of guesswork involved in picking a new game to design and develop.  But in the information age, we can take a lot of the guessing out of that work.  And leverage our data science team to help make a data-driven decision that will significantly increase our chances of picking a successful game.  This notebook will be used to develop, implement, and document the following goals:\n",
    "\n",
    "- Discover and implement a machine learning algorithm to predict what type of video game is most likely to succeed with a high degree of accuracy.\n",
    "- Use the machine learning model to predict what type of video game is most likely to succeed with a high degree of accuracy.\n",
    "\n",
    "\n",
    "## Loading And Cleaning The Data\n",
    "\n",
    "Let's load the data:"
   ]
  },
  {
   "cell_type": "code",
   "execution_count": 1,
   "metadata": {
    "scrolled": false
   },
   "outputs": [
    {
     "data": {
      "text/html": [
       "<div>\n",
       "<style scoped>\n",
       "    .dataframe tbody tr th:only-of-type {\n",
       "        vertical-align: middle;\n",
       "    }\n",
       "\n",
       "    .dataframe tbody tr th {\n",
       "        vertical-align: top;\n",
       "    }\n",
       "\n",
       "    .dataframe thead th {\n",
       "        text-align: right;\n",
       "    }\n",
       "</style>\n",
       "<table border=\"1\" class=\"dataframe\">\n",
       "  <thead>\n",
       "    <tr style=\"text-align: right;\">\n",
       "      <th></th>\n",
       "      <th>Rank</th>\n",
       "      <th>Name</th>\n",
       "      <th>Platform</th>\n",
       "      <th>Year</th>\n",
       "      <th>Genre</th>\n",
       "      <th>Publisher</th>\n",
       "      <th>NA_Sales</th>\n",
       "      <th>EU_Sales</th>\n",
       "      <th>JP_Sales</th>\n",
       "      <th>Other_Sales</th>\n",
       "      <th>Global_Sales</th>\n",
       "    </tr>\n",
       "  </thead>\n",
       "  <tbody>\n",
       "    <tr>\n",
       "      <th>0</th>\n",
       "      <td>1</td>\n",
       "      <td>Wii Sports</td>\n",
       "      <td>Wii</td>\n",
       "      <td>2006.0</td>\n",
       "      <td>Sports</td>\n",
       "      <td>Nintendo</td>\n",
       "      <td>41.49</td>\n",
       "      <td>29.02</td>\n",
       "      <td>3.77</td>\n",
       "      <td>8.46</td>\n",
       "      <td>82.74</td>\n",
       "    </tr>\n",
       "    <tr>\n",
       "      <th>1</th>\n",
       "      <td>2</td>\n",
       "      <td>Super Mario Bros.</td>\n",
       "      <td>NES</td>\n",
       "      <td>1985.0</td>\n",
       "      <td>Platform</td>\n",
       "      <td>Nintendo</td>\n",
       "      <td>29.08</td>\n",
       "      <td>3.58</td>\n",
       "      <td>6.81</td>\n",
       "      <td>0.77</td>\n",
       "      <td>40.24</td>\n",
       "    </tr>\n",
       "    <tr>\n",
       "      <th>2</th>\n",
       "      <td>3</td>\n",
       "      <td>Mario Kart Wii</td>\n",
       "      <td>Wii</td>\n",
       "      <td>2008.0</td>\n",
       "      <td>Racing</td>\n",
       "      <td>Nintendo</td>\n",
       "      <td>15.85</td>\n",
       "      <td>12.88</td>\n",
       "      <td>3.79</td>\n",
       "      <td>3.31</td>\n",
       "      <td>35.82</td>\n",
       "    </tr>\n",
       "    <tr>\n",
       "      <th>3</th>\n",
       "      <td>4</td>\n",
       "      <td>Wii Sports Resort</td>\n",
       "      <td>Wii</td>\n",
       "      <td>2009.0</td>\n",
       "      <td>Sports</td>\n",
       "      <td>Nintendo</td>\n",
       "      <td>15.75</td>\n",
       "      <td>11.01</td>\n",
       "      <td>3.28</td>\n",
       "      <td>2.96</td>\n",
       "      <td>33.00</td>\n",
       "    </tr>\n",
       "    <tr>\n",
       "      <th>4</th>\n",
       "      <td>5</td>\n",
       "      <td>Pokemon Red/Pokemon Blue</td>\n",
       "      <td>GB</td>\n",
       "      <td>1996.0</td>\n",
       "      <td>Role-Playing</td>\n",
       "      <td>Nintendo</td>\n",
       "      <td>11.27</td>\n",
       "      <td>8.89</td>\n",
       "      <td>10.22</td>\n",
       "      <td>1.00</td>\n",
       "      <td>31.37</td>\n",
       "    </tr>\n",
       "    <tr>\n",
       "      <th>...</th>\n",
       "      <td>...</td>\n",
       "      <td>...</td>\n",
       "      <td>...</td>\n",
       "      <td>...</td>\n",
       "      <td>...</td>\n",
       "      <td>...</td>\n",
       "      <td>...</td>\n",
       "      <td>...</td>\n",
       "      <td>...</td>\n",
       "      <td>...</td>\n",
       "      <td>...</td>\n",
       "    </tr>\n",
       "    <tr>\n",
       "      <th>16593</th>\n",
       "      <td>16596</td>\n",
       "      <td>Woody Woodpecker in Crazy Castle 5</td>\n",
       "      <td>GBA</td>\n",
       "      <td>2002.0</td>\n",
       "      <td>Platform</td>\n",
       "      <td>Kemco</td>\n",
       "      <td>0.01</td>\n",
       "      <td>0.00</td>\n",
       "      <td>0.00</td>\n",
       "      <td>0.00</td>\n",
       "      <td>0.01</td>\n",
       "    </tr>\n",
       "    <tr>\n",
       "      <th>16594</th>\n",
       "      <td>16597</td>\n",
       "      <td>Men in Black II: Alien Escape</td>\n",
       "      <td>GC</td>\n",
       "      <td>2003.0</td>\n",
       "      <td>Shooter</td>\n",
       "      <td>Infogrames</td>\n",
       "      <td>0.01</td>\n",
       "      <td>0.00</td>\n",
       "      <td>0.00</td>\n",
       "      <td>0.00</td>\n",
       "      <td>0.01</td>\n",
       "    </tr>\n",
       "    <tr>\n",
       "      <th>16595</th>\n",
       "      <td>16598</td>\n",
       "      <td>SCORE International Baja 1000: The Official Game</td>\n",
       "      <td>PS2</td>\n",
       "      <td>2008.0</td>\n",
       "      <td>Racing</td>\n",
       "      <td>Activision</td>\n",
       "      <td>0.00</td>\n",
       "      <td>0.00</td>\n",
       "      <td>0.00</td>\n",
       "      <td>0.00</td>\n",
       "      <td>0.01</td>\n",
       "    </tr>\n",
       "    <tr>\n",
       "      <th>16596</th>\n",
       "      <td>16599</td>\n",
       "      <td>Know How 2</td>\n",
       "      <td>DS</td>\n",
       "      <td>2010.0</td>\n",
       "      <td>Puzzle</td>\n",
       "      <td>7G//AMES</td>\n",
       "      <td>0.00</td>\n",
       "      <td>0.01</td>\n",
       "      <td>0.00</td>\n",
       "      <td>0.00</td>\n",
       "      <td>0.01</td>\n",
       "    </tr>\n",
       "    <tr>\n",
       "      <th>16597</th>\n",
       "      <td>16600</td>\n",
       "      <td>Spirits &amp; Spells</td>\n",
       "      <td>GBA</td>\n",
       "      <td>2003.0</td>\n",
       "      <td>Platform</td>\n",
       "      <td>Wanadoo</td>\n",
       "      <td>0.01</td>\n",
       "      <td>0.00</td>\n",
       "      <td>0.00</td>\n",
       "      <td>0.00</td>\n",
       "      <td>0.01</td>\n",
       "    </tr>\n",
       "  </tbody>\n",
       "</table>\n",
       "<p>16598 rows × 11 columns</p>\n",
       "</div>"
      ],
      "text/plain": [
       "        Rank                                              Name Platform  \\\n",
       "0          1                                        Wii Sports      Wii   \n",
       "1          2                                 Super Mario Bros.      NES   \n",
       "2          3                                    Mario Kart Wii      Wii   \n",
       "3          4                                 Wii Sports Resort      Wii   \n",
       "4          5                          Pokemon Red/Pokemon Blue       GB   \n",
       "...      ...                                               ...      ...   \n",
       "16593  16596                Woody Woodpecker in Crazy Castle 5      GBA   \n",
       "16594  16597                     Men in Black II: Alien Escape       GC   \n",
       "16595  16598  SCORE International Baja 1000: The Official Game      PS2   \n",
       "16596  16599                                        Know How 2       DS   \n",
       "16597  16600                                  Spirits & Spells      GBA   \n",
       "\n",
       "         Year         Genre   Publisher  NA_Sales  EU_Sales  JP_Sales  \\\n",
       "0      2006.0        Sports    Nintendo     41.49     29.02      3.77   \n",
       "1      1985.0      Platform    Nintendo     29.08      3.58      6.81   \n",
       "2      2008.0        Racing    Nintendo     15.85     12.88      3.79   \n",
       "3      2009.0        Sports    Nintendo     15.75     11.01      3.28   \n",
       "4      1996.0  Role-Playing    Nintendo     11.27      8.89     10.22   \n",
       "...       ...           ...         ...       ...       ...       ...   \n",
       "16593  2002.0      Platform       Kemco      0.01      0.00      0.00   \n",
       "16594  2003.0       Shooter  Infogrames      0.01      0.00      0.00   \n",
       "16595  2008.0        Racing  Activision      0.00      0.00      0.00   \n",
       "16596  2010.0        Puzzle    7G//AMES      0.00      0.01      0.00   \n",
       "16597  2003.0      Platform     Wanadoo      0.01      0.00      0.00   \n",
       "\n",
       "       Other_Sales  Global_Sales  \n",
       "0             8.46         82.74  \n",
       "1             0.77         40.24  \n",
       "2             3.31         35.82  \n",
       "3             2.96         33.00  \n",
       "4             1.00         31.37  \n",
       "...            ...           ...  \n",
       "16593         0.00          0.01  \n",
       "16594         0.00          0.01  \n",
       "16595         0.00          0.01  \n",
       "16596         0.00          0.01  \n",
       "16597         0.00          0.01  \n",
       "\n",
       "[16598 rows x 11 columns]"
      ]
     },
     "execution_count": 1,
     "metadata": {},
     "output_type": "execute_result"
    }
   ],
   "source": [
    "# First the data can be retrieved here: https://www.kaggle.com/datasets/gregorut/videogamesales/download\n",
    "# save as `vgsales.zip` in the same folder as this notebook file.\n",
    "# Extract the zip\n",
    "\n",
    "# These manual steps could be improved by automating the download of the file.\n",
    "# import kaggle\n",
    "# kaggle.api.authenticate()\n",
    "# kaggle.api.dataset_download_files(dataset='videogamesales', path='gregorut', unzip=True)\n",
    "\n",
    "\n",
    "import matplotlib.pyplot as plt\n",
    "import numpy as np\n",
    "import statsmodels.api as sm\n",
    "from datetime import datetime\n",
    "from sklearn.preprocessing import LabelEncoder, StandardScaler, MultiLabelBinarizer, OrdinalEncoder\n",
    "from sklearn.model_selection import train_test_split\n",
    "from sklearn.linear_model import LinearRegression\n",
    "from sklearn.metrics import mean_squared_error, r2_score\n",
    "\n",
    "import seaborn as sns\n",
    "sns.set_theme(style=\"darkgrid\")\n",
    "\n",
    "import pandas as pd\n",
    "df = pd.read_csv(\"vgsales.csv\")\n",
    "\n",
    "df\n"
   ]
  },
  {
   "cell_type": "code",
   "execution_count": 2,
   "metadata": {},
   "outputs": [
    {
     "name": "stdout",
     "output_type": "stream",
     "text": [
      "<class 'pandas.core.frame.DataFrame'>\n",
      "RangeIndex: 16598 entries, 0 to 16597\n",
      "Data columns (total 11 columns):\n",
      " #   Column        Non-Null Count  Dtype  \n",
      "---  ------        --------------  -----  \n",
      " 0   Rank          16598 non-null  int64  \n",
      " 1   Name          16598 non-null  object \n",
      " 2   Platform      16598 non-null  object \n",
      " 3   Year          16327 non-null  float64\n",
      " 4   Genre         16598 non-null  object \n",
      " 5   Publisher     16540 non-null  object \n",
      " 6   NA_Sales      16598 non-null  float64\n",
      " 7   EU_Sales      16598 non-null  float64\n",
      " 8   JP_Sales      16598 non-null  float64\n",
      " 9   Other_Sales   16598 non-null  float64\n",
      " 10  Global_Sales  16598 non-null  float64\n",
      "dtypes: float64(6), int64(1), object(4)\n",
      "memory usage: 1.4+ MB\n"
     ]
    },
    {
     "data": {
      "text/html": [
       "<div>\n",
       "<style scoped>\n",
       "    .dataframe tbody tr th:only-of-type {\n",
       "        vertical-align: middle;\n",
       "    }\n",
       "\n",
       "    .dataframe tbody tr th {\n",
       "        vertical-align: top;\n",
       "    }\n",
       "\n",
       "    .dataframe thead th {\n",
       "        text-align: right;\n",
       "    }\n",
       "</style>\n",
       "<table border=\"1\" class=\"dataframe\">\n",
       "  <thead>\n",
       "    <tr style=\"text-align: right;\">\n",
       "      <th></th>\n",
       "      <th>Rank</th>\n",
       "      <th>Name</th>\n",
       "      <th>Platform</th>\n",
       "      <th>Year</th>\n",
       "      <th>Genre</th>\n",
       "      <th>Publisher</th>\n",
       "      <th>NA_Sales</th>\n",
       "      <th>EU_Sales</th>\n",
       "      <th>JP_Sales</th>\n",
       "      <th>Other_Sales</th>\n",
       "      <th>Global_Sales</th>\n",
       "    </tr>\n",
       "  </thead>\n",
       "  <tbody>\n",
       "    <tr>\n",
       "      <th>count</th>\n",
       "      <td>16598.000000</td>\n",
       "      <td>16598</td>\n",
       "      <td>16598</td>\n",
       "      <td>16327.000000</td>\n",
       "      <td>16598</td>\n",
       "      <td>16540</td>\n",
       "      <td>16598.000000</td>\n",
       "      <td>16598.000000</td>\n",
       "      <td>16598.000000</td>\n",
       "      <td>16598.000000</td>\n",
       "      <td>16598.000000</td>\n",
       "    </tr>\n",
       "    <tr>\n",
       "      <th>unique</th>\n",
       "      <td>NaN</td>\n",
       "      <td>11493</td>\n",
       "      <td>31</td>\n",
       "      <td>NaN</td>\n",
       "      <td>12</td>\n",
       "      <td>578</td>\n",
       "      <td>NaN</td>\n",
       "      <td>NaN</td>\n",
       "      <td>NaN</td>\n",
       "      <td>NaN</td>\n",
       "      <td>NaN</td>\n",
       "    </tr>\n",
       "    <tr>\n",
       "      <th>top</th>\n",
       "      <td>NaN</td>\n",
       "      <td>Need for Speed: Most Wanted</td>\n",
       "      <td>DS</td>\n",
       "      <td>NaN</td>\n",
       "      <td>Action</td>\n",
       "      <td>Electronic Arts</td>\n",
       "      <td>NaN</td>\n",
       "      <td>NaN</td>\n",
       "      <td>NaN</td>\n",
       "      <td>NaN</td>\n",
       "      <td>NaN</td>\n",
       "    </tr>\n",
       "    <tr>\n",
       "      <th>freq</th>\n",
       "      <td>NaN</td>\n",
       "      <td>12</td>\n",
       "      <td>2163</td>\n",
       "      <td>NaN</td>\n",
       "      <td>3316</td>\n",
       "      <td>1351</td>\n",
       "      <td>NaN</td>\n",
       "      <td>NaN</td>\n",
       "      <td>NaN</td>\n",
       "      <td>NaN</td>\n",
       "      <td>NaN</td>\n",
       "    </tr>\n",
       "    <tr>\n",
       "      <th>mean</th>\n",
       "      <td>8300.605254</td>\n",
       "      <td>NaN</td>\n",
       "      <td>NaN</td>\n",
       "      <td>2006.406443</td>\n",
       "      <td>NaN</td>\n",
       "      <td>NaN</td>\n",
       "      <td>0.264667</td>\n",
       "      <td>0.146652</td>\n",
       "      <td>0.077782</td>\n",
       "      <td>0.048063</td>\n",
       "      <td>0.537441</td>\n",
       "    </tr>\n",
       "    <tr>\n",
       "      <th>std</th>\n",
       "      <td>4791.853933</td>\n",
       "      <td>NaN</td>\n",
       "      <td>NaN</td>\n",
       "      <td>5.828981</td>\n",
       "      <td>NaN</td>\n",
       "      <td>NaN</td>\n",
       "      <td>0.816683</td>\n",
       "      <td>0.505351</td>\n",
       "      <td>0.309291</td>\n",
       "      <td>0.188588</td>\n",
       "      <td>1.555028</td>\n",
       "    </tr>\n",
       "    <tr>\n",
       "      <th>min</th>\n",
       "      <td>1.000000</td>\n",
       "      <td>NaN</td>\n",
       "      <td>NaN</td>\n",
       "      <td>1980.000000</td>\n",
       "      <td>NaN</td>\n",
       "      <td>NaN</td>\n",
       "      <td>0.000000</td>\n",
       "      <td>0.000000</td>\n",
       "      <td>0.000000</td>\n",
       "      <td>0.000000</td>\n",
       "      <td>0.010000</td>\n",
       "    </tr>\n",
       "    <tr>\n",
       "      <th>25%</th>\n",
       "      <td>4151.250000</td>\n",
       "      <td>NaN</td>\n",
       "      <td>NaN</td>\n",
       "      <td>2003.000000</td>\n",
       "      <td>NaN</td>\n",
       "      <td>NaN</td>\n",
       "      <td>0.000000</td>\n",
       "      <td>0.000000</td>\n",
       "      <td>0.000000</td>\n",
       "      <td>0.000000</td>\n",
       "      <td>0.060000</td>\n",
       "    </tr>\n",
       "    <tr>\n",
       "      <th>50%</th>\n",
       "      <td>8300.500000</td>\n",
       "      <td>NaN</td>\n",
       "      <td>NaN</td>\n",
       "      <td>2007.000000</td>\n",
       "      <td>NaN</td>\n",
       "      <td>NaN</td>\n",
       "      <td>0.080000</td>\n",
       "      <td>0.020000</td>\n",
       "      <td>0.000000</td>\n",
       "      <td>0.010000</td>\n",
       "      <td>0.170000</td>\n",
       "    </tr>\n",
       "    <tr>\n",
       "      <th>75%</th>\n",
       "      <td>12449.750000</td>\n",
       "      <td>NaN</td>\n",
       "      <td>NaN</td>\n",
       "      <td>2010.000000</td>\n",
       "      <td>NaN</td>\n",
       "      <td>NaN</td>\n",
       "      <td>0.240000</td>\n",
       "      <td>0.110000</td>\n",
       "      <td>0.040000</td>\n",
       "      <td>0.040000</td>\n",
       "      <td>0.470000</td>\n",
       "    </tr>\n",
       "    <tr>\n",
       "      <th>max</th>\n",
       "      <td>16600.000000</td>\n",
       "      <td>NaN</td>\n",
       "      <td>NaN</td>\n",
       "      <td>2020.000000</td>\n",
       "      <td>NaN</td>\n",
       "      <td>NaN</td>\n",
       "      <td>41.490000</td>\n",
       "      <td>29.020000</td>\n",
       "      <td>10.220000</td>\n",
       "      <td>10.570000</td>\n",
       "      <td>82.740000</td>\n",
       "    </tr>\n",
       "  </tbody>\n",
       "</table>\n",
       "</div>"
      ],
      "text/plain": [
       "                Rank                         Name Platform          Year  \\\n",
       "count   16598.000000                        16598    16598  16327.000000   \n",
       "unique           NaN                        11493       31           NaN   \n",
       "top              NaN  Need for Speed: Most Wanted       DS           NaN   \n",
       "freq             NaN                           12     2163           NaN   \n",
       "mean     8300.605254                          NaN      NaN   2006.406443   \n",
       "std      4791.853933                          NaN      NaN      5.828981   \n",
       "min         1.000000                          NaN      NaN   1980.000000   \n",
       "25%      4151.250000                          NaN      NaN   2003.000000   \n",
       "50%      8300.500000                          NaN      NaN   2007.000000   \n",
       "75%     12449.750000                          NaN      NaN   2010.000000   \n",
       "max     16600.000000                          NaN      NaN   2020.000000   \n",
       "\n",
       "         Genre        Publisher      NA_Sales      EU_Sales      JP_Sales  \\\n",
       "count    16598            16540  16598.000000  16598.000000  16598.000000   \n",
       "unique      12              578           NaN           NaN           NaN   \n",
       "top     Action  Electronic Arts           NaN           NaN           NaN   \n",
       "freq      3316             1351           NaN           NaN           NaN   \n",
       "mean       NaN              NaN      0.264667      0.146652      0.077782   \n",
       "std        NaN              NaN      0.816683      0.505351      0.309291   \n",
       "min        NaN              NaN      0.000000      0.000000      0.000000   \n",
       "25%        NaN              NaN      0.000000      0.000000      0.000000   \n",
       "50%        NaN              NaN      0.080000      0.020000      0.000000   \n",
       "75%        NaN              NaN      0.240000      0.110000      0.040000   \n",
       "max        NaN              NaN     41.490000     29.020000     10.220000   \n",
       "\n",
       "         Other_Sales  Global_Sales  \n",
       "count   16598.000000  16598.000000  \n",
       "unique           NaN           NaN  \n",
       "top              NaN           NaN  \n",
       "freq             NaN           NaN  \n",
       "mean        0.048063      0.537441  \n",
       "std         0.188588      1.555028  \n",
       "min         0.000000      0.010000  \n",
       "25%         0.000000      0.060000  \n",
       "50%         0.010000      0.170000  \n",
       "75%         0.040000      0.470000  \n",
       "max        10.570000     82.740000  "
      ]
     },
     "execution_count": 2,
     "metadata": {},
     "output_type": "execute_result"
    }
   ],
   "source": [
    "df.info()\n",
    "df.describe(include='all')\n"
   ]
  },
  {
   "cell_type": "markdown",
   "metadata": {},
   "source": [
    "### Initial Observations:\n",
    "\n",
    "Our data is now loaded into a Pandas `DataFrame` which allows us to easily manipulate our data in python friendly data structures.  The `describe()`, `info()`, and `head()` methods give us tons of information about our data:\n",
    "\n",
    "1. There are 16,598 rows\n",
    "1. There are 271 null values in Year column\n",
    "1. There are 58 null values in Publisher column\n",
    "1. Each row has a column for Rank, Name, Platform, Year, Genre, Publisher, NA_Sales, EU_Sales, JP_Sales, Other_Sales, Global_Sales.\n",
    "    - Rank: This seems to be directly correlated with global sales.  Can potentially be used as a unique identifier.\n",
    "    - Name: Name of the game.  Name has `Need for Speed: Most Wanted` has 12 duplicates, so it is NOT a unique identifier by itself.\n",
    "    - Platform: Which hardware platform the game was released on.  Could be a tie breaker identifier if same game exists on multiple platforms.  \n",
    "    - Year: Year the game was published.\n",
    "    - Genre: A categorical assignment capturing the nature/content of the game.  Action is the largest category (genre) with 3316 games.  Though the same game could be listed several times on different platforms.\n",
    "    - Publisher: Game studio that created and published the game.\n",
    "    - NA_Sales, EU_Sales, JP_Sales, Other_Sales, and Global_Sales: Sales stats and Global_Sales will be our measure of success.\n",
    "1. Each of the `*_Sales` columns are in millions and need multiplied by 1,000,000 to be represented as the dollar value.\n",
    "\n",
    "\n",
    "### Dealing with Nulls\n",
    "\n",
    "The null values could throw off the accuracy of our analysis and model.  Since there is only a few records w/ null values the easiest and cleanest way to deal with them is to remove them entirely:\n"
   ]
  },
  {
   "cell_type": "code",
   "execution_count": 3,
   "metadata": {},
   "outputs": [
    {
     "name": "stdout",
     "output_type": "stream",
     "text": [
      "<class 'pandas.core.frame.DataFrame'>\n",
      "Int64Index: 16291 entries, 0 to 16597\n",
      "Data columns (total 11 columns):\n",
      " #   Column        Non-Null Count  Dtype  \n",
      "---  ------        --------------  -----  \n",
      " 0   Rank          16291 non-null  int64  \n",
      " 1   Name          16291 non-null  object \n",
      " 2   Platform      16291 non-null  object \n",
      " 3   Year          16291 non-null  float64\n",
      " 4   Genre         16291 non-null  object \n",
      " 5   Publisher     16291 non-null  object \n",
      " 6   NA_Sales      16291 non-null  float64\n",
      " 7   EU_Sales      16291 non-null  float64\n",
      " 8   JP_Sales      16291 non-null  float64\n",
      " 9   Other_Sales   16291 non-null  float64\n",
      " 10  Global_Sales  16291 non-null  float64\n",
      "dtypes: float64(6), int64(1), object(4)\n",
      "memory usage: 1.5+ MB\n"
     ]
    }
   ],
   "source": [
    "# Find and drop rows with null values\n",
    "df_not_null = df.dropna(axis=0)\n",
    "df_not_null.info()"
   ]
  },
  {
   "cell_type": "markdown",
   "metadata": {},
   "source": [
    "## Exploring the Data\n",
    "\n",
    "Now that we have loaded the data and removed null values we can do some initial analysis of our dataset.  Let's start with the Total Sales:\n",
    "\n"
   ]
  },
  {
   "cell_type": "code",
   "execution_count": 4,
   "metadata": {
    "scrolled": false
   },
   "outputs": [
    {
     "name": "stdout",
     "output_type": "stream",
     "text": [
      "Total Sales: 8811.97\n"
     ]
    }
   ],
   "source": [
    "# df_not_null['Global_Sales'] = df_not_null['Global_Sales'].multiply(1000000) # can be used to \n",
    "total_sales = df_not_null['Global_Sales'].sum()\n",
    "print(\"Total Sales: \" + str(total_sales))"
   ]
  },
  {
   "cell_type": "markdown",
   "metadata": {},
   "source": [
    "The total amount of all games sold according to our dataset is 8.8 Billion dollars (pretty staggering).  But how does the rest of our features: `Rank`, `Platform`, `Publisher`, `Year`, and `Genre`; relate to `Global_Sales` and could they be useful to our model accurately predict a successful game?  Each of the following sections will attempt to answer these questions."
   ]
  },
  {
   "cell_type": "markdown",
   "metadata": {},
   "source": [
    "### Exploring Rank"
   ]
  },
  {
   "cell_type": "code",
   "execution_count": 5,
   "metadata": {
    "scrolled": true
   },
   "outputs": [
    {
     "data": {
      "text/plain": [
       "<AxesSubplot:xlabel='Rank'>"
      ]
     },
     "execution_count": 5,
     "metadata": {},
     "output_type": "execute_result"
    },
    {
     "data": {
      "image/png": "[encoded data removed]",
      "text/plain": [
       "<Figure size 1440x504 with 1 Axes>"
      ]
     },
     "metadata": {},
     "output_type": "display_data"
    }
   ],
   "source": [
    "y = df_not_null['Global_Sales']\n",
    "x1 = df_not_null.index\n",
    "plt.figure(figsize=(22,8))\n",
    "plt.xlabel('Rank')\n",
    "plt.ylabel('Global_Sales')\n",
    "plt.plot(x1, y)\n",
    "plt.show()"
   ]
  },
  {
   "cell_type": "markdown",
   "metadata": {},
   "source": [
    "The above graph illustrates how Global_Sales is skewed heavily based on Rank.   Also the first 500 ranked games account for a huge percentage of the total sales.  This indicates that a very small number of the 16k games make up a majority of the sales.\n",
    "\n",
    "This also shows a smooth line with a smooth curve which indicates there is a direct correlation between increased Rank and increased Global_Sales.  This makes sense, games were assigned their rank based on how much their game made.  Unfortunately, while rank could be said to be a nearly perfect predictor of Global_Sales, it is only assigned once you know what the global sales are, which means that Rank depends on Global Sales and therfore can't predict the Global Sales.\n",
    "\n",
    "We can drop or ignore the rank column."
   ]
  },
  {
   "cell_type": "code",
   "execution_count": 6,
   "metadata": {},
   "outputs": [],
   "source": [
    "df_not_null = df_not_null.drop(columns=['Rank'])"
   ]
  },
  {
   "cell_type": "markdown",
   "metadata": {},
   "source": [
    "### Exploring Platform\n",
    "\n",
    "Let's see how much each platform made in terms of sales.  "
   ]
  },
  {
   "cell_type": "code",
   "execution_count": 7,
   "metadata": {},
   "outputs": [
    {
     "data": {
      "image/png": "[encoded data removed]",
      "text/plain": [
       "<Figure size 2160x720 with 1 Axes>"
      ]
     },
     "metadata": {},
     "output_type": "display_data"
    }
   ],
   "source": [
    "# Group the dataframe by Platform, sum the other fields based on the group, sort by global_sales\n",
    "grouped_by_platform = df_not_null.groupby(['Platform']).sum().sort_values(by=['Global_Sales'], ascending=False)\n",
    "\n",
    "# Use matplotlib to visualize Global Sales per platform\n",
    "y = grouped_by_platform['Global_Sales']\n",
    "x1 = grouped_by_platform.index\n",
    "\n",
    "plt.figure(figsize=(30,10))\n",
    "plt.bar(x1, y, width=1, linewidth=1)\n",
    "plt.show()"
   ]
  },
  {
   "cell_type": "markdown",
   "metadata": {},
   "source": [
    "The slope of the data is somewhat linear, with some significant jumps; which could indicate a linear relationship between the platform and the global sales.\n",
    "\n",
    "PS2 is the clear leader with just above 1.2 billion in global sales and on the other end of the spectrum, several platforms made less than 200 milliion in global sales.  There are also the questions of when each platform was actively selling, prices at the time, technology differences, and accessibility challenges.\n",
    "\n",
    "There are also several unknown platforms that I was unable to identify, however they can be removed as they make up a negligable number of records and are not good indicators of success:\n",
    "\n",
    " - NG, SCD, WS, 3DO, TG16, PCFX, GG, GC\n",
    "\n",
    "Some of these platforms are no longer in development, so we will need to remove End of Life(EOL) platforms.  Since we are only concerned with platforms that are still being actively developed we can remove the following:\n",
    "\n",
    "- Atari: 2600\n",
    "- Sony: PS3, PS2, PS, PSP, PSV\n",
    "- Nintendo: Wii, GBA, N64, 3DS, DS, SNES, WiiU, NES, GB\n",
    "- Microsoft: X360, XB\n",
    "- SEGA: SAT, GEN, DC\n",
    "\n",
    "If we were to only keep platforms under active development in our data we would only have around 2k records in our sample out of the original 16k.  However, we could keep the EOL platforms that were part of a product line.  For example, xbox could be kept in the dataset because it has the actively developed Xbox One in the same product line that we can attribute it's success/sales to.  To help represent this abstraction we can create a platform_parent feature that maps the game to and platform to a particular platform parent:\n",
    "\n",
    "- Sony: [PS4, PS3, PS2, PS, PSP, PSV]\n",
    "- Nintendo: [Wii, GBA, N64, 3DS, DS, SNES, WiiU, NES, GB]\n",
    "- Microsoft: [XOne, X360, XB]\n",
    "- PC: [PC]\n",
    "\n",
    " \n",
    "**Note:** The PC is one platform created by multiple software/hardware companies so it does NOT have a parent company with multiple platforms required to match the pattern. However, Since we do want to compare PC as a single platform against all Microsoft, Nintendo, and Sony sales we can just assign `PC` as the platform_parent.\n",
    "\n",
    "\n",
    "#### Dropping Unknown and EOL Platforms\n"
   ]
  },
  {
   "cell_type": "code",
   "execution_count": 8,
   "metadata": {},
   "outputs": [
    {
     "name": "stdout",
     "output_type": "stream",
     "text": [
      "Unknowns: ['NG', 'SCD', 'WS', '3DO', 'TG16', 'PCFX', 'GG', 'GC']\n",
      "Unique Platforms after removing unknowns: ['Wii' 'NES' 'GB' 'DS' 'X360' 'PS3' 'PS2' 'SNES' 'GBA' '3DS' 'PS4' 'N64'\n",
      " 'PS' 'XB' 'PC' '2600' 'PSP' 'XOne' 'WiiU' 'GEN' 'DC' 'PSV' 'SAT']\n"
     ]
    }
   ],
   "source": [
    "# Remove unknowns platforms\n",
    "unknowns = [\"NG\", \"SCD\", \"WS\", \"3DO\", \"TG16\", \"PCFX\", \"GG\", \"GC\"]\n",
    "print(\"Unknowns: \" + str(unknowns))\n",
    "df_no_platform_unknown = df_not_null[~df_not_null['Platform'].isin(unknowns)]\n",
    "print(\"Unique Platforms after removing unknowns: \" + str(df_no_platform_unknown[\"Platform\"].unique()))"
   ]
  },
  {
   "cell_type": "code",
   "execution_count": 9,
   "metadata": {},
   "outputs": [
    {
     "name": "stdout",
     "output_type": "stream",
     "text": [
      "eol_platforms: ['SAT', 'GEN', 'DC', '2600']\n",
      "Unique Platforms after removing eol_platforms: ['Wii' 'NES' 'GB' 'DS' 'X360' 'PS3' 'PS2' 'SNES' 'GBA' '3DS' 'PS4' 'N64'\n",
      " 'PS' 'XB' 'PC' 'PSP' 'XOne' 'WiiU' 'PSV']\n"
     ]
    }
   ],
   "source": [
    "# Remove platforms that are EOL\n",
    "eol_platforms = ['SAT', 'GEN', 'DC', '2600']\n",
    "print(\"eol_platforms: \" + str(eol_platforms))\n",
    "df_eol_platforms = df_no_platform_unknown[~df_no_platform_unknown['Platform'].isin(eol_platforms)]\n",
    "print(\"Unique Platforms after removing eol_platforms: \" + str(df_eol_platforms[\"Platform\"].unique()))"
   ]
  },
  {
   "cell_type": "markdown",
   "metadata": {},
   "source": [
    "#### Visualizing Platform_Parent Abstraction"
   ]
  },
  {
   "cell_type": "code",
   "execution_count": 10,
   "metadata": {},
   "outputs": [
    {
     "name": "stderr",
     "output_type": "stream",
     "text": [
      "/var/folders/81/sfc2wkhn10g14vmg3wqv_p380000gn/T/ipykernel_75945/3590150950.py:19: SettingWithCopyWarning: \n",
      "A value is trying to be set on a copy of a slice from a DataFrame.\n",
      "Try using .loc[row_indexer,col_indexer] = value instead\n",
      "\n",
      "See the caveats in the documentation: https://pandas.pydata.org/pandas-docs/stable/user_guide/indexing.html#returning-a-view-versus-a-copy\n",
      "  df_eol_platforms['Platform_Parent'] = df_eol_platforms['Platform'].apply(get_platform_parent)\n"
     ]
    },
    {
     "data": {
      "image/png": "[encoded data removed]",
      "text/plain": [
       "<Figure size 360x360 with 1 Axes>"
      ]
     },
     "metadata": {},
     "output_type": "display_data"
    }
   ],
   "source": [
    "sony = ['PS4', 'PS3', 'PS2', 'PS', 'PSP', 'PSV']\n",
    "nintendo = ['Wii', 'GBA', 'N64', '3DS', 'DS', 'SNES', 'WiiU', 'NES', 'GB']\n",
    "microsoft = ['XOne', 'X360', 'XB']\n",
    "pc = ['PC']\n",
    "\n",
    "def get_platform_parent(platform):\n",
    "    if (sony.count(platform) > 0):\n",
    "        return \"Sony\"\n",
    "    elif (nintendo.count(platform) > 0):\n",
    "        return \"Nintendo\"\n",
    "    elif (microsoft.count(platform) > 0):\n",
    "        return \"Microsoft\"      \n",
    "    elif (pc.count(platform) > 0):\n",
    "        return \"PC\"\n",
    "    else:\n",
    "        print(\"Error: The platform: \" + platform + \", wasn't found.\")\n",
    "\n",
    "#Add a column to the dataframe that will hold the `Platform_Parent` according to the map above\n",
    "df_eol_platforms['Platform_Parent'] = df_eol_platforms['Platform'].apply(get_platform_parent)\n",
    "\n",
    "# Group the dataframe by Platform_Parent, sum the other fields based on the group, sort by global_sales\n",
    "grouped_by_platform_parent = df_eol_platforms.groupby(['Platform_Parent']).sum().sort_values(by=['Global_Sales'], ascending=False)\n",
    "\n",
    "# Use matplotlib to visualize Global Sales per platform_parent\n",
    "y = grouped_by_platform_parent['Global_Sales']\n",
    "x1 = grouped_by_platform_parent.index\n",
    "\n",
    "plt.figure(figsize=(5,5))\n",
    "plt.bar(x1, y, width=1, linewidth=1)\n",
    "plt.show()"
   ]
  },
  {
   "cell_type": "markdown",
   "metadata": {},
   "source": [
    "While platform_parent is interesting to see being in the video game industry, it isn't particularly useful other than serving as an indication of where we should attribute success of platforms that are EOL, but part of an actively developed line of products.  It only contains 4 unique categories and relates directly to the Platforms themseleves which when used together may cause multicolinearity and throw off the accuracy of our model's results.  Therefore we will just be using this feature informationally and can drop it from our dataset before proceeding."
   ]
  },
  {
   "cell_type": "code",
   "execution_count": 11,
   "metadata": {},
   "outputs": [],
   "source": [
    "df_eol_platforms = df_eol_platforms.drop(columns=['Platform_Parent'])"
   ]
  },
  {
   "cell_type": "markdown",
   "metadata": {},
   "source": [
    "### Exploring Publisher\n",
    "\n",
    "Publisher is NOT a factor that we can control, in otherwords we will be the publisher of our own game. So we can essentially get rid of this column."
   ]
  },
  {
   "cell_type": "code",
   "execution_count": 12,
   "metadata": {},
   "outputs": [
    {
     "data": {
      "text/html": [
       "<div>\n",
       "<style scoped>\n",
       "    .dataframe tbody tr th:only-of-type {\n",
       "        vertical-align: middle;\n",
       "    }\n",
       "\n",
       "    .dataframe tbody tr th {\n",
       "        vertical-align: top;\n",
       "    }\n",
       "\n",
       "    .dataframe thead th {\n",
       "        text-align: right;\n",
       "    }\n",
       "</style>\n",
       "<table border=\"1\" class=\"dataframe\">\n",
       "  <thead>\n",
       "    <tr style=\"text-align: right;\">\n",
       "      <th></th>\n",
       "      <th>Name</th>\n",
       "      <th>Platform</th>\n",
       "      <th>Year</th>\n",
       "      <th>Genre</th>\n",
       "      <th>NA_Sales</th>\n",
       "      <th>EU_Sales</th>\n",
       "      <th>JP_Sales</th>\n",
       "      <th>Other_Sales</th>\n",
       "      <th>Global_Sales</th>\n",
       "    </tr>\n",
       "  </thead>\n",
       "  <tbody>\n",
       "    <tr>\n",
       "      <th>0</th>\n",
       "      <td>Wii Sports</td>\n",
       "      <td>Wii</td>\n",
       "      <td>2006.0</td>\n",
       "      <td>Sports</td>\n",
       "      <td>41.49</td>\n",
       "      <td>29.02</td>\n",
       "      <td>3.77</td>\n",
       "      <td>8.46</td>\n",
       "      <td>82.74</td>\n",
       "    </tr>\n",
       "    <tr>\n",
       "      <th>1</th>\n",
       "      <td>Super Mario Bros.</td>\n",
       "      <td>NES</td>\n",
       "      <td>1985.0</td>\n",
       "      <td>Platform</td>\n",
       "      <td>29.08</td>\n",
       "      <td>3.58</td>\n",
       "      <td>6.81</td>\n",
       "      <td>0.77</td>\n",
       "      <td>40.24</td>\n",
       "    </tr>\n",
       "    <tr>\n",
       "      <th>2</th>\n",
       "      <td>Mario Kart Wii</td>\n",
       "      <td>Wii</td>\n",
       "      <td>2008.0</td>\n",
       "      <td>Racing</td>\n",
       "      <td>15.85</td>\n",
       "      <td>12.88</td>\n",
       "      <td>3.79</td>\n",
       "      <td>3.31</td>\n",
       "      <td>35.82</td>\n",
       "    </tr>\n",
       "    <tr>\n",
       "      <th>3</th>\n",
       "      <td>Wii Sports Resort</td>\n",
       "      <td>Wii</td>\n",
       "      <td>2009.0</td>\n",
       "      <td>Sports</td>\n",
       "      <td>15.75</td>\n",
       "      <td>11.01</td>\n",
       "      <td>3.28</td>\n",
       "      <td>2.96</td>\n",
       "      <td>33.00</td>\n",
       "    </tr>\n",
       "    <tr>\n",
       "      <th>4</th>\n",
       "      <td>Pokemon Red/Pokemon Blue</td>\n",
       "      <td>GB</td>\n",
       "      <td>1996.0</td>\n",
       "      <td>Role-Playing</td>\n",
       "      <td>11.27</td>\n",
       "      <td>8.89</td>\n",
       "      <td>10.22</td>\n",
       "      <td>1.00</td>\n",
       "      <td>31.37</td>\n",
       "    </tr>\n",
       "  </tbody>\n",
       "</table>\n",
       "</div>"
      ],
      "text/plain": [
       "                       Name Platform    Year         Genre  NA_Sales  \\\n",
       "0                Wii Sports      Wii  2006.0        Sports     41.49   \n",
       "1         Super Mario Bros.      NES  1985.0      Platform     29.08   \n",
       "2            Mario Kart Wii      Wii  2008.0        Racing     15.85   \n",
       "3         Wii Sports Resort      Wii  2009.0        Sports     15.75   \n",
       "4  Pokemon Red/Pokemon Blue       GB  1996.0  Role-Playing     11.27   \n",
       "\n",
       "   EU_Sales  JP_Sales  Other_Sales  Global_Sales  \n",
       "0     29.02      3.77         8.46         82.74  \n",
       "1      3.58      6.81         0.77         40.24  \n",
       "2     12.88      3.79         3.31         35.82  \n",
       "3     11.01      3.28         2.96         33.00  \n",
       "4      8.89     10.22         1.00         31.37  "
      ]
     },
     "execution_count": 12,
     "metadata": {},
     "output_type": "execute_result"
    }
   ],
   "source": [
    "# Remove the Publisher column\n",
    "df_no_publisher = df_eol_platforms.drop(columns=['Publisher'])\n",
    "df_no_publisher.head()\n"
   ]
  },
  {
   "cell_type": "markdown",
   "metadata": {},
   "source": [
    "### Exploring Year\n",
    "\n",
    "Let's explore the relationship between our Year feature and 'Global_Sales'."
   ]
  },
  {
   "cell_type": "code",
   "execution_count": 13,
   "metadata": {
    "scrolled": true
   },
   "outputs": [
    {
     "data": {
      "image/png": "[encoded data removed]",
      "text/plain": [
       "<Figure size 1440x360 with 1 Axes>"
      ]
     },
     "metadata": {},
     "output_type": "display_data"
    }
   ],
   "source": [
    "# Change year to int rather than float\n",
    "df_no_publisher['Year'] = df_no_publisher['Year'].astype(int)\n",
    "\n",
    "# Group the dataframe by Year, sum the other fields based on the group, sort by global_sales\n",
    "grouped_by_year = df_no_publisher.groupby(['Year']).sum().sort_values(by=['Year'], ascending=False)\n",
    "\n",
    "# Use matplotlib to visualize Global Sales per Year\n",
    "y = grouped_by_year['Global_Sales']\n",
    "x1 = grouped_by_year.index\n",
    "\n",
    "plt.figure(figsize=(20,5))\n",
    "plt.xlabel('Year')\n",
    "plt.ylabel('Global_Sales')\n",
    "plt.plot(x1, y)\n",
    "plt.show()\n"
   ]
  },
  {
   "cell_type": "markdown",
   "metadata": {},
   "source": [
    "\n",
    "Sales steadily increased until 2008 where they began to decline, leading me to believe that something occurred during this time period.\n",
    "\n",
    "We don't have the ability to control the year we publish our game, however we should keep in mind that our total predicted sales may differ considerably because the market has been trending downwards. There is also a tail on the right side of our data at 0, it looks like we have no data passed 2016.  We should remove these outlier years where no sales were recorded.\n",
    "\n",
    "If year does correlate strongly to predicting global sales, it will show us how important it could be to use up to date historical sales data from our company to help predict our own performance as a company."
   ]
  },
  {
   "cell_type": "markdown",
   "metadata": {},
   "source": [
    "### Exploring Genre\n",
    "\n",
    "Let's explore the relationship between our Genre feature and 'Global_Sales'."
   ]
  },
  {
   "cell_type": "code",
   "execution_count": 14,
   "metadata": {},
   "outputs": [
    {
     "data": {
      "image/png": "[encoded data removed]",
      "text/plain": [
       "<Figure size 1440x360 with 1 Axes>"
      ]
     },
     "metadata": {},
     "output_type": "display_data"
    }
   ],
   "source": [
    "# Group the dataframe by Genre, sum the other fields based on the group, sort by global_sales\n",
    "# grouped_by_genre = df_no_publisher.groupby(['Genre'])\n",
    "grouped_by_genre = df_no_publisher.groupby(['Genre']).sum().sort_values(by=['Global_Sales'], ascending=True)\n",
    "\n",
    "# Use matplotlib to visualize Global Sales per genre\n",
    "y = grouped_by_genre['Global_Sales']\n",
    "x1 = grouped_by_genre.index\n",
    "\n",
    "plt.figure(figsize=(20,5))\n",
    "plt.plot(x1, y)\n",
    "plt.show()\n"
   ]
  },
  {
   "cell_type": "markdown",
   "metadata": {},
   "source": [
    "Again we see a heavy affect on number of sales.  With Action, Sports, and Shooters as the top three Genre's by global sales.  This gradual climb could indicate a linear relationship with global sales and potentially a good predicting attribute of our game data."
   ]
  },
  {
   "cell_type": "markdown",
   "metadata": {},
   "source": [
    "### Exploring Regional *_Sales Columns\n",
    "\n",
    "There are 5 features within our data that have to do with sales `NA_Sales`, `EU_Sales`, `JP_Sales`, `Other_Sales`, and `Global_Sales`.  The first 3 features in that list are regional sales and the 4th looks to be a miscellaneous bucket for sales unattributed to a region.  Now, we could either attempt draw a correlation between these features and verify that relationship through testing, i.e.: `NA + EU + JP + Other = Global`.  Making the assumption that the game will be sold world-wide and we are more concerned with developing a game that is successful regardless of what region those sales are attributed to, we can just ignore/drop sales features other than Global Sales from this point forward."
   ]
  },
  {
   "cell_type": "code",
   "execution_count": 15,
   "metadata": {},
   "outputs": [
    {
     "data": {
      "text/html": [
       "<div>\n",
       "<style scoped>\n",
       "    .dataframe tbody tr th:only-of-type {\n",
       "        vertical-align: middle;\n",
       "    }\n",
       "\n",
       "    .dataframe tbody tr th {\n",
       "        vertical-align: top;\n",
       "    }\n",
       "\n",
       "    .dataframe thead th {\n",
       "        text-align: right;\n",
       "    }\n",
       "</style>\n",
       "<table border=\"1\" class=\"dataframe\">\n",
       "  <thead>\n",
       "    <tr style=\"text-align: right;\">\n",
       "      <th></th>\n",
       "      <th>Platform</th>\n",
       "      <th>Year</th>\n",
       "      <th>Genre</th>\n",
       "      <th>Global_Sales</th>\n",
       "    </tr>\n",
       "  </thead>\n",
       "  <tbody>\n",
       "    <tr>\n",
       "      <th>0</th>\n",
       "      <td>Wii</td>\n",
       "      <td>2006</td>\n",
       "      <td>Sports</td>\n",
       "      <td>82.74</td>\n",
       "    </tr>\n",
       "    <tr>\n",
       "      <th>1</th>\n",
       "      <td>NES</td>\n",
       "      <td>1985</td>\n",
       "      <td>Platform</td>\n",
       "      <td>40.24</td>\n",
       "    </tr>\n",
       "    <tr>\n",
       "      <th>2</th>\n",
       "      <td>Wii</td>\n",
       "      <td>2008</td>\n",
       "      <td>Racing</td>\n",
       "      <td>35.82</td>\n",
       "    </tr>\n",
       "    <tr>\n",
       "      <th>3</th>\n",
       "      <td>Wii</td>\n",
       "      <td>2009</td>\n",
       "      <td>Sports</td>\n",
       "      <td>33.00</td>\n",
       "    </tr>\n",
       "    <tr>\n",
       "      <th>4</th>\n",
       "      <td>GB</td>\n",
       "      <td>1996</td>\n",
       "      <td>Role-Playing</td>\n",
       "      <td>31.37</td>\n",
       "    </tr>\n",
       "  </tbody>\n",
       "</table>\n",
       "</div>"
      ],
      "text/plain": [
       "  Platform  Year         Genre  Global_Sales\n",
       "0      Wii  2006        Sports         82.74\n",
       "1      NES  1985      Platform         40.24\n",
       "2      Wii  2008        Racing         35.82\n",
       "3      Wii  2009        Sports         33.00\n",
       "4       GB  1996  Role-Playing         31.37"
      ]
     },
     "execution_count": 15,
     "metadata": {},
     "output_type": "execute_result"
    }
   ],
   "source": [
    "df_no_regional_sales = df_no_publisher.drop(columns=['Other_Sales', 'Name']) # 'NA_Sales', 'EU_Sales', 'JP_Sales', \n",
    "\n",
    "# create our final cleaned df object\n",
    "clean_sales_data = df_no_regional_sales.copy(deep=True)\n",
    "\n",
    "# Create dependent variable, which should be reusable between the models\n",
    "# Remove: Rank and Global_Sales, Reason: perfect predictors of Global Sales\n",
    "clean_reg_data = clean_sales_data.copy(deep=True).drop(columns=['NA_Sales', 'EU_Sales', 'JP_Sales'])\n",
    "clean_reg_data.head()"
   ]
  },
  {
   "cell_type": "markdown",
   "metadata": {},
   "source": [
    "\n",
    "### Summary of Exploration and Cleaning\n",
    "\n",
    "- Converted year to `int`\n",
    "- Removed the following columns: `['NA_Sales', 'EU_Sales', 'JP_Sales', 'Other_Sales', ]`\n",
    "- Came up with a strategy for dealing with EOL platforms while retaining a large enough dataset to perform regression analysis on, i.e. `Sony`, `Nintendo`, `Microsoft`, and `PC`\n",
    "- Removed negligible unknown and EOL platforms: `[\"NG\", \"SCD\", \"WS\", \"3DO\", \"TG16\", \"PCFX\", \"GG\", \"GC\"] + ['SAT', 'GEN', 'DC', '2600']`\n",
    "- Learned that Global_Sales is highly affected by Platform, Year, and Genre.  These will likely be our input parameters/features.  And Global_Sales will be our indicator of success that we will optimize for. \n",
    "- Learned that Year may be a confounding variable as global sales have been decreasing since 2008, but we are unsure of the reason.\n"
   ]
  },
  {
   "cell_type": "markdown",
   "metadata": {},
   "source": [
    "## Data Normalization And Machine Learning\n",
    "\n",
    "\n",
    "After doing some further research on performing sales forecasting machine learning, I found that sales forecasting usually uses history or uses some sort of measure of time, for instance years and forecasts the sales based on what it thinks the next year's performance will be.  As we concluded earlier, our `Year` feature isn't controllable and our dataset is missing the last 6 years of data.  But, the point is that sales forecasting can be done using linear regression models, linear regression's having a much lower complexity to implement, and coupled with the potential linear relationships we found in our above data exploration; I have decided to implement a linear regression for our model of choice.\n",
    "\n",
    "Now that we have properly cleaned our data we can perform a simple OLS LinearRegression.  The following steps will be taken for each feature 'Genre', 'Year', and 'Platform':\n",
    "\n",
    "1. Set the dependent variable to the Global Sales series and drop the series from the original DataFrame.\n",
    "2. Split the data into test and train datasets (a random 30% of the data is used for test data).\n",
    "3. Perform the LinearRegression \n",
    "4. Convert those predictions back to a human readible value.\n",
    "5. Outputting the Accurracy, Mean Squared Error, Variance Score, and predictions.\n",
    "6. Perform the same regression in seaborn so we can visualize the linearity and regression.\n",
    "\n",
    "\n",
    "#### Create preprocessing() and runRegression() Methods\n"
   ]
  },
  {
   "cell_type": "code",
   "execution_count": 16,
   "metadata": {},
   "outputs": [],
   "source": [
    "# Description: Method to preprocess the data.  Preprocessing consists of applying a LabelEncoder,\n",
    "def preprocess(dataframe, feature):\n",
    "    y = dataframe['Global_Sales']\n",
    "\n",
    "    # LabelEncode the `feature`\n",
    "    le = LabelEncoder()\n",
    "    dataframe[feature] = le.fit_transform(dataframe[feature].astype('str'))\n",
    "    dataframe = dataframe.drop(columns=['Global_Sales'])\n",
    "    x_train, x_test, y_train, y_test = train_test_split(dataframe, y, test_size=0.30) # Randomly split the data into test and train datasets\n",
    "\n",
    "    # Apply a StandardScaler to each feature on each test & train datasets\n",
    "    transformer_x = StandardScaler().fit(x_train)\n",
    "    transformer_x_test = StandardScaler().fit(x_test)\n",
    "    x_train = transformer_x.transform(x_train)\n",
    "    x_test = transformer_x_test.transform(x_test)\n",
    "\n",
    "    y_train = y_train.values.reshape(-1, 1)\n",
    "    y_test = y_test.values.reshape(-1, 1)\n",
    "    transformer_y = StandardScaler().fit(y_train)\n",
    "    transformer_y_test = StandardScaler().fit(y_train)\n",
    "    y_train = transformer_y.transform(y_train)\n",
    "    y_test = transformer_y_test.transform(y_test)\n",
    "\n",
    "    return x_train, transformer_x, x_test, transformer_x_test, y_train, transformer_y, y_test, transformer_y_test, le\n",
    "\n",
    "\n",
    "# Description: Run the linear regression on the preprocessed data, revert scaling, revert encoding, and print results\n",
    "def runRegression(x_train, transformer_x, x_test, transformer_x_test, y_train, transformer_y, y_test, transformer_y_test, le, feature):\n",
    "    reg = LinearRegression()\n",
    "    reg.fit(x_train,y_train)\n",
    "\n",
    "    # Make predictions using the model\n",
    "    y_pred = reg.predict(x_test)\n",
    "    train_accuracy = reg.score(x_train, y_train)\n",
    "    test_accuracy = reg.score(x_test, y_test)\n",
    "\n",
    "    # revert scaling\n",
    "    y_train = transformer_y.inverse_transform(y_train)\n",
    "    y_test = transformer_y_test.inverse_transform(y_test)\n",
    "    y_pred = transformer_y_test.inverse_transform(y_pred)\n",
    "\n",
    "    # revert label encoding\n",
    "    x_train = le.inverse_transform(transformer_x.inverse_transform(x_train)[:,0].astype(int))\n",
    "    x_test = le.inverse_transform(transformer_x_test.inverse_transform(x_test)[:,0].astype(int))\n",
    "\n",
    "    # Print out results of Regression\n",
    "    print ('Train Accuracy : {:.2f}%'.format(train_accuracy*100))\n",
    "    print ('Test Accuracy : {:.2f}%'.format(test_accuracy*100))\n",
    "    print ('X Test Values :' + str(x_test))\n",
    "    print ('Y Test Values :' + str(y_test))\n",
    "    print ('Y Predictions :' + str(y_pred))\n",
    "    print('Mean squared error: %.2f'% mean_squared_error(y_test, y_pred))\n",
    "    print('Variance Score: %.2f'% r2_score(y_test, y_pred))\n",
    "\n",
    "\n",
    "\n",
    "\n"
   ]
  },
  {
   "cell_type": "markdown",
   "metadata": {},
   "source": [
    "#### Predict Global_Sales Given A Genre"
   ]
  },
  {
   "cell_type": "code",
   "execution_count": 17,
   "metadata": {},
   "outputs": [
    {
     "name": "stdout",
     "output_type": "stream",
     "text": [
      "Train Accuracy : 0.11%\n",
      "Test Accuracy : -0.10%\n",
      "X Test Values :['Action' 'Shooter' 'Action' ... 'Action' 'Racing' 'Action']\n",
      "Y Test Values :[[0.08]\n",
      " [0.84]\n",
      " [0.19]\n",
      " ...\n",
      " [0.92]\n",
      " [1.44]\n",
      " [0.03]]\n",
      "Y Predictions :[[0.47608702]\n",
      " [0.58861874]\n",
      " [0.47608702]\n",
      " ...\n",
      " [0.47608702]\n",
      " [0.56048581]\n",
      " [0.49015349]]\n",
      "Mean squared error: 2.44\n",
      "Variance Score: -0.00\n"
     ]
    }
   ],
   "source": [
    "linear_reg_data = clean_reg_data.copy(deep=True)\n",
    "linear_reg_data = linear_reg_data.drop(columns=['Platform','Year'])\n",
    "# by_genre = linear_reg_data.groupby(['Genre']).sum().reset_index()\n",
    "\n",
    "# Call preprocess w/ 'Genre' dataframe and return preprocessed data to runRegression to run our LinearRegression\n",
    "x_train, transformer_x, x_test, transformer_x_test, y_train, transformer_y, y_test, transformer_y_test, le = preprocess(linear_reg_data, 'Genre')\n",
    "runRegression(x_train, transformer_x, x_test, transformer_x_test, y_train, transformer_y, y_test, transformer_y_test, le, 'Genre')"
   ]
  },
  {
   "cell_type": "code",
   "execution_count": 18,
   "metadata": {},
   "outputs": [
    {
     "data": {
      "image/png": "[encoded data removed]",
      "text/plain": [
       "<Figure size 720x360 with 1 Axes>"
      ]
     },
     "metadata": {},
     "output_type": "display_data"
    }
   ],
   "source": [
    "plt.figure(figsize=(10, 5))\n",
    "sns.regplot(x=\"Genre\", y=\"Global_Sales\", data=linear_reg_data)\n",
    "plt.show()"
   ]
  },
  {
   "cell_type": "markdown",
   "metadata": {},
   "source": [
    "#### Linear Regression on Sales Summarized by Year"
   ]
  },
  {
   "cell_type": "code",
   "execution_count": 19,
   "metadata": {},
   "outputs": [
    {
     "name": "stdout",
     "output_type": "stream",
     "text": [
      "Train Accuracy : 0.67%\n",
      "Test Accuracy : 0.84%\n",
      "X Test Values :['2008' '2006' '2003' ... '2012' '2011' '2006']\n",
      "Y Test Values :[[0.17]\n",
      " [0.06]\n",
      " [0.07]\n",
      " ...\n",
      " [0.17]\n",
      " [0.03]\n",
      " [0.05]]\n",
      "Y Predictions :[[0.51543983]\n",
      " [0.56378252]\n",
      " [0.63629654]\n",
      " ...\n",
      " [0.41875446]\n",
      " [0.4429258 ]\n",
      " [0.56378252]]\n",
      "Mean squared error: 2.76\n",
      "Variance Score: 0.01\n"
     ]
    }
   ],
   "source": [
    "\n",
    "linear_reg_data = clean_reg_data.copy(deep=True)\n",
    "linear_reg_data = linear_reg_data.drop(columns=['Genre','Platform'])\n",
    "\n",
    "# Call preprocess w/ 'Year' dataframe and return preprocessed data to runRegression to run our LinearRegression\n",
    "x_train, transformer_x, x_test, transformer_x_test, y_train, transformer_y, y_test, transformer_y_test, le = preprocess(linear_reg_data, 'Year')\n",
    "runRegression(x_train, transformer_x, x_test, transformer_x_test, y_train, transformer_y, y_test, transformer_y_test, le, 'Year')"
   ]
  },
  {
   "cell_type": "code",
   "execution_count": 20,
   "metadata": {},
   "outputs": [
    {
     "data": {
      "image/png": "[encoded data removed]",
      "text/plain": [
       "<Figure size 720x360 with 1 Axes>"
      ]
     },
     "metadata": {},
     "output_type": "display_data"
    }
   ],
   "source": [
    "plt.figure(figsize=(10, 5))\n",
    "sns.regplot(x=\"Year\", y=\"Global_Sales\", data=linear_reg_data)\n",
    "plt.show()"
   ]
  },
  {
   "cell_type": "markdown",
   "metadata": {},
   "source": [
    "#### Linear Regression on Sales Summarized by Platform"
   ]
  },
  {
   "cell_type": "code",
   "execution_count": 21,
   "metadata": {},
   "outputs": [
    {
     "name": "stdout",
     "output_type": "stream",
     "text": [
      "Train Accuracy : 0.05%\n",
      "Test Accuracy : 0.02%\n",
      "X Test Values :['PS2' 'PS' 'PS2' ... '3DS' 'SNES' 'XB']\n",
      "Y Test Values :[[2.78]\n",
      " [0.19]\n",
      " [0.03]\n",
      " ...\n",
      " [0.6 ]\n",
      " [0.1 ]\n",
      " [0.05]]\n",
      "Y Predictions :[[0.55504943]\n",
      " [0.54802482]\n",
      " [0.55504943]\n",
      " ...\n",
      " [0.5058772 ]\n",
      " [0.59017244]\n",
      " [0.61827086]]\n",
      "Mean squared error: 2.82\n",
      "Variance Score: 0.00\n"
     ]
    }
   ],
   "source": [
    "\n",
    "linear_reg_data = clean_reg_data.copy(deep=True)\n",
    "linear_reg_data = linear_reg_data.drop(columns=['Genre','Year'])\n",
    "\n",
    "# Call preprocess w/ 'Platform' dataframe and return preprocessed data to runRegression to run our LinearRegression\n",
    "x_train, transformer_x, x_test, transformer_x_test, y_train, transformer_y, y_test, transformer_y_test, le = preprocess(linear_reg_data, 'Platform')\n",
    "runRegression(x_train, transformer_x, x_test, transformer_x_test, y_train, transformer_y, y_test, transformer_y_test, le, 'Platform')"
   ]
  },
  {
   "cell_type": "code",
   "execution_count": 22,
   "metadata": {},
   "outputs": [
    {
     "data": {
      "image/png": "[encoded data removed]",
      "text/plain": [
       "<Figure size 720x360 with 1 Axes>"
      ]
     },
     "metadata": {},
     "output_type": "display_data"
    }
   ],
   "source": [
    "plt.figure(figsize=(10, 5))\n",
    "sns.regplot(x=\"Platform\", y=\"Global_Sales\", data=linear_reg_data)\n",
    "plt.show()"
   ]
  },
  {
   "cell_type": "markdown",
   "metadata": {},
   "source": [
    "## Conclusions\n",
    "\n",
    "As you can see the 3 linear regressions above for `Platform`, `Genre`, and `Year` the accuracy was about 0% or worse.  Unfortunately, looking at the results above you can see further indication that our data is most likely not well suited for predicting GlobalSales based off of a LinearRegression.  Observations:\n",
    "\n",
    "Genre Regression:\n",
    "- Accuracy: Very low, usually around -10% - 40%, varies highly\n",
    "- Plot: Data is in columns, categorical values are creating non-linear relationships between the points on the graph.\n",
    "\n",
    "Year Regression:\n",
    "- Accuracy: Very low, usually around -10% - 40%, varies highly\n",
    "- Plot: Data is in columns, categorical values are creating non-linear relationships between the points on the graph.\n",
    "\n",
    "Platform Regression:\n",
    "- Accuracy: Very low, usually around -10% - 10%.\n",
    "- Plot: Data is in columns, categorical values are creating non-linear relationships between the points on the graph.\n",
    "\n",
    "Did we meet our objectives?\n",
    "- Discover and implement a machine learning algorithm to predict what type of video game is most likely to succeed with a high degree of accuracy.\n",
    "  - Result: FAILED\n",
    "  - Reason: We were able to discover and implement a machine learning algorithm to predict the Global_Sales of a video game given one of the following attributes: `Genre`, `Platform`, or `Year`.  However, all of our models demonstrated low accuracy and a high degree of fluxuation in accuracy.\n",
    "- Use the machine learning model to predict what type of video game is most likely to succeed with a high degree of accuracy.\n",
    "  - Result: FAILED\n",
    "  - Reason: We were able to predict the Global_Sales of a video game given one of the following attributes: `Genre`, `Platform`, or `Year`.  However, all of our models demonstrated low accuracy and a high degree of fluxuation in accuracy.\n",
    "\n",
    "Why did we fail our objectives, what did we learn and how could we improve?\n",
    "- LabelEncoders are notorious for creating false relationships.  I refactored the solution a few times using a few combinations of OneHotEncoding, Dummy Variables, and MultiLabelBinarizer, as well as w/ and w/o a StandardScaler.  The highest accuracy I was able to achieve on the full dataset was 4% - 8% accurracy and would have required a refactor.  See Appendix: \"A. One Hot Encoding - (Status: Abandoned)\",  and \"C. (Dummy Encoding OR MultiLabelBinarizer) AND LinearRegression; (Status: Abandoned AND Broken, between two different tests.)\" for how these tests were implemented.\n",
    "- Our dataset didn't contain recent data or data about our own company's sales history.  With sales forecasting data it is very important to have up to date datasets.\n",
    "- Due to the high number of categorical variables it might have made sense to try to turn our question into a yes/no answer and employ a Logistic Regression.  For instance, We could have segmented Global_Sales into any predicted sales above a certain value equals a success and anything below equals a fail.\n",
    "- Publisher is not a feature that can be controlled in this case, however our own companies sales data could look very different from the overall industry.\n",
    "- Ran out of time to implement other algorithm's that may be better suited for this dataset and problem.\n",
    "\n",
    "\n",
    "While our Machine Learning approach didn't pan out, we did learn ALOT of useful information, after performing statistical analysis in the `Data Exploration` section, the datascience team has come up with a recommendation that WCVG will have the highest chances of success if they develop a game in one of the top two Genres or Platforms:\n",
    "\n",
    "Genre: Action, Sports\n",
    "Platform: Playstation or Nintendo\n",
    "\n",
    "\n"
   ]
  },
  {
   "cell_type": "markdown",
   "metadata": {},
   "source": [
    "## Appendix\n"
   ]
  },
  {
   "cell_type": "markdown",
   "metadata": {},
   "source": [
    "### A. One Hot Encoding - (Status: Abandoned)\n",
    "\n",
    "```\n",
    "df_no_regional_sales['Sony'] = df_no_regional_sales['Platform_Parent'].map({'Sony': 1}).fillna(0).astype(int)\n",
    "df_no_regional_sales['Nintendo'] = df_no_regional_sales['Platform_Parent'].map({'Nintendo': 1}).fillna(0).astype(int)\n",
    "df_no_regional_sales['Microsoft'] = df_no_regional_sales['Platform_Parent'].map({'Microsoft': 1}).fillna(0).astype(int)\n",
    "df_no_regional_sales['PC'] = df_no_regional_sales['Platform_Parent'].map({'PC': 1}).fillna(0).astype(int)\n",
    "\n",
    "df_no_regional_sales['Action'] = df_no_regional_sales['Genre'].map({'Action': 1}).fillna(0).astype(int)\n",
    "df_no_regional_sales['Sports'] = df_no_regional_sales['Genre'].map({'Sports': 1}).fillna(0).astype(int)\n",
    "df_no_regional_sales['Shooter'] = df_no_regional_sales['Genre'].map({'Shooter': 1}).fillna(0).astype(int)\n",
    "df_no_regional_sales['Role-Playing'] = df_no_regional_sales['Genre'].map({'Role-Playing': 1}).fillna(0).astype(int)\n",
    "df_no_regional_sales['Misc'] = df_no_regional_sales['Genre'].map({'Misc': 1}).fillna(0).astype(int)\n",
    "df_no_regional_sales['Platform'] = df_no_regional_sales['Genre'].map({'Platform': 1}).fillna(0).astype(int)\n",
    "df_no_regional_sales['Racing'] = df_no_regional_sales['Genre'].map({'Racing': 1}).fillna(0).astype(int)\n",
    "df_no_regional_sales['Fighting'] = df_no_regional_sales['Genre'].map({'Fighting': 1}).fillna(0).astype(int)\n",
    "df_no_regional_sales['Simulation'] = df_no_regional_sales['Genre'].map({'Simulation': 1}).fillna(0).astype(int)\n",
    "df_no_regional_sales['Puzzle'] = df_no_regional_sales['Genre'].map({'Puzzle': 1}).fillna(0).astype(int)\n",
    "df_no_regional_sales['Adventure'] = df_no_regional_sales['Genre'].map({'Adventure': 1}).fillna(0).astype(int)\n",
    "df_no_regional_sales['Strategy'] = df_no_regional_sales['Genre'].map({'Strategy': 1}).fillna(0).astype(int)\n",
    "\n",
    "df_no_regional_sales.info()\n",
    "```"
   ]
  },
  {
   "cell_type": "markdown",
   "metadata": {},
   "source": [
    "### B. Logistic Regression - (Status: Abandoned)\n",
    "\n",
    "```python\n",
    "y = df_no_regional_sales['Global_Sales']\n",
    "x1 = df_no_regional_sales[['Sony', 'Nintendo', 'Microsoft', 'PC', 'Action', 'Sports', 'Shooter', 'Role-Playing',\n",
    "                          'Misc', 'Platform', 'Racing', 'Fighting', 'Simulation', 'Puzzle', 'Adventure', 'Strategy']]\n",
    "\n",
    "# plt.scatter(x1,y)\n",
    "# plt.xlabel('Size',fontsize=20)\n",
    "# plt.ylabel('Price',fontsize=20)\n",
    "# plt.show()\n",
    "\n",
    "#Logistic regression:\n",
    "# x = sm.add_constant(x1)\n",
    "# reg_log = sm.Logit(y,x)\n",
    "# results_log = reg_log.fit()\n",
    "\n",
    "# # Get the regression summary\n",
    "# results_log.summary()\n",
    "\n",
    "#Linear regression:\n",
    "# Add a constant. Esentially, we are adding a new column (equal in lenght to x), which consists only of 1s\n",
    "x = sm.add_constant(x1)\n",
    "# Fit the model, according to the OLS (ordinary least squares) method with a dependent variable y and an idependent x\n",
    "results = sm.OLS(y,x).fit()\n",
    "# Print a nice summary of the regression.\n",
    "results.summary()\n",
    "```"
   ]
  },
  {
   "cell_type": "markdown",
   "metadata": {},
   "source": [
    "### C. (Dummy Encoding OR MultiLabelBinarizer) AND LinearRegression; (Status: Abandoned AND Broken, between two different tests.)\n",
    "\n",
    "```\n",
    "data = clean_reg_data.copy(deep=True)\n",
    "# data = data.drop(columns=['Global_Sales'])\n",
    "\n",
    "\n",
    "data.head(10)\n",
    "\n",
    "categorical_cols = []\n",
    "categorical_cols.append('Platform')\n",
    "categorical_cols.append('Genre')\n",
    "categorical_cols.append('Year')\n",
    "\n",
    "# data_frame = pd.get_dummies(data, columns = categorical_cols)#, drop_first=True)\n",
    "\n",
    "data = data.groupby(categorical_cols).sum()\n",
    "data.reset_index(inplace=True)\n",
    "data.head()\n",
    "\n",
    "mlb = MultiLabelBinarizer()\n",
    "data = mlb.fit(data['Global_Sales'])\n",
    "\n",
    "scaler = StandardScaler()\n",
    "scaler.fit(data_frame) # compute mean and std\n",
    "data_frame = scaler.transform(data_frame) # standardize by centering and scaling\n",
    "x_train, x_test, y_train, y_test = train_test_split(data_frame, y, test_size=0.30) # Randomly split the data into test and train datasets\n",
    "reg = LinearRegression()\n",
    "reg.fit(x_train,y_train)\n",
    "y_pred = reg.predict(x_test)\n",
    "train_accuracy = reg.score(x_train, y_train)\n",
    "test_accuracy = reg.score(x_test, y_test)\n",
    "print ('Train Accuracy : {:.2f}%'.format(train_accuracy*100))\n",
    "print ('Test Accuracy : {:.2f}%'.format(test_accuracy*100))\n",
    "\n",
    "```"
   ]
  },
  {
   "cell_type": "markdown",
   "metadata": {},
   "source": [
    "### D. Applying StandardScaler to pandas DF using DataFrameMapper\n",
    "\n",
    "```\n",
    "# Create a new DataFrame with the features scaled with a StandardScaler\n",
    "mapper = DataFrameMapper([(by_genre.columns, StandardScaler())])\n",
    "scaled_features = mapper.fit_transform(by_genre.copy(), 4)\n",
    "by_genre = pd.DataFrame(scaled_features, index=by_genre.index, columns=by_genre.columns)\n",
    "scaled_features = mapper.fit_transform(by_year.copy(), 4)\n",
    "by_year = pd.DataFrame(scaled_features, index=by_year.index, columns=by_year.columns)\n",
    "scaled_features = mapper.fit_transform(by_platform.copy(), 4)\n",
    "by_platform = pd.DataFrame(scaled_features, index=by_platform.index, columns=by_platform.columns)\n",
    "\n",
    "by_genre.head(20) # Print sample of newly scaled features\n",
    "```\n",
    "\n",
    "No feature to inverse this action: https://github.com/scikit-learn-contrib/sklearn-pandas/pull/133\n"
   ]
  }
 ],
 "metadata": {
  "interpreter": {
   "hash": "99483ec2ea02b770c806ec848139b87b6afe6052e35d633642e48aaacc3ad342"
  },
  "kernelspec": {
   "display_name": "Python 3 (ipykernel)",
   "language": "python",
   "name": "python3"
  },
  "language_info": {
   "codemirror_mode": {
    "name": "ipython",
    "version": 3
   },
   "file_extension": ".py",
   "mimetype": "text/x-python",
   "name": "python",
   "nbconvert_exporter": "python",
   "pygments_lexer": "ipython3",
   "version": "3.8.7"
  }
 },
 "nbformat": 4,
 "nbformat_minor": 2
}
